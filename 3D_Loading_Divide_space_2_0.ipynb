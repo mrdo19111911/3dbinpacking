{
  "nbformat": 4,
  "nbformat_minor": 0,
  "metadata": {
    "colab": {
      "name": "3D Loading Divide space 2.0.ipynb",
      "provenance": [],
      "collapsed_sections": [],
      "authorship_tag": "ABX9TyPbBvdBehhuG0+yIUm2RuHI",
      "include_colab_link": true
    },
    "kernelspec": {
      "name": "python3",
      "display_name": "Python 3"
    },
    "language_info": {
      "name": "python"
    }
  },
  "cells": [
    {
      "cell_type": "markdown",
      "metadata": {
        "id": "view-in-github",
        "colab_type": "text"
      },
      "source": [
        "<a href=\"https://colab.research.google.com/github/mrdo19111911/3dbinpacking/blob/1.x/3D_Loading_Divide_space_2_0.ipynb\" target=\"_parent\"><img src=\"https://colab.research.google.com/assets/colab-badge.svg\" alt=\"Open In Colab\"/></a>"
      ]
    },
    {
      "cell_type": "code",
      "execution_count": 1,
      "metadata": {
        "id": "GDdFJgEMsg-p"
      },
      "outputs": [],
      "source": [
        "import math\n",
        "import numpy as np\n",
        "import random\n",
        "import matplotlib.pyplot as plt\n",
        "from matplotlib.pyplot import figure\n",
        "import numba\n",
        "from numba import njit"
      ]
    },
    {
      "cell_type": "code",
      "source": [
        "import random as rd\n",
        "import time\n",
        "\n"
      ],
      "metadata": {
        "id": "lPaNivrlzQbG"
      },
      "execution_count": 2,
      "outputs": []
    },
    {
      "cell_type": "code",
      "source": [
        "DATA_SIZE=5\n",
        "ROTATE_FIX=   np.array([\n",
        "        [0,1,2],\n",
        "        [0,2,1],\n",
        "        [1,0,2],\n",
        "        [1,2,0],\n",
        "        [2,1,0],\n",
        "        [2,0,1]], np.int_)"
      ],
      "metadata": {
        "id": "G5V9598gwHEC"
      },
      "execution_count": 3,
      "outputs": []
    },
    {
      "cell_type": "code",
      "source": [
        "class Bin:\n",
        "    def __init__(self, size):\n",
        "        self.size =size\n",
        "    def print(self):\n",
        "        print(\"size\", self.size)\n",
        "class Item:\n",
        "    def __init__(self, size):\n",
        "        self.size= size\n",
        "    def print(self):\n",
        "        print(\"data\", self.size)"
      ],
      "metadata": {
        "id": "5LTfhRPTsocw"
      },
      "execution_count": 4,
      "outputs": []
    },
    {
      "cell_type": "code",
      "source": [
        "\n",
        "\n"
      ],
      "metadata": {
        "id": "Lvk-nYtytN9D"
      },
      "execution_count": 4,
      "outputs": []
    },
    {
      "cell_type": "code",
      "source": [
        "@njit\n",
        "def compute_rotate_item_size(size, k):\n",
        "    \n",
        "\n",
        "    new =  ROTATE_FIX[k]\n",
        "    # aa =  [size[new[0]], size[new[1]], size[new[2]]]\n",
        "    new_size =  np.concatenate((np.array([size[new[0]], size[new[1]], size[new[2]]], np.int_) , size[3:]   ))\n",
        "    \n",
        "    return new_size"
      ],
      "metadata": {
        "id": "8m-Scj4wtkZl"
      },
      "execution_count": 5,
      "outputs": []
    },
    {
      "cell_type": "code",
      "source": [
        "@njit\n",
        "def compute_number_of_fit(bin_size,item_size): #compute number of fit item\n",
        "    M_l=math.floor(bin_size[0]/item_size[0])\n",
        "    M_w=math.floor(bin_size[1]/item_size[1])\n",
        "    M_h=math.floor(bin_size[2]/item_size[2])\n",
        "    result = np.empty((4), np.int_)\n",
        "    result[0]= M_h*M_l*M_w\n",
        "    result[1]= M_l\n",
        "    result[2]= M_w\n",
        "    result[3]= M_h\n",
        "    return result\n",
        "\n",
        "@njit\n",
        "\n",
        "def find_volume_coef(bin_size,item_size ):\n",
        "    a=math.floor(bin_size[0]/item_size[0])* math.floor(bin_size[1]/item_size[1])* math.floor(bin_size[2]/item_size[2])\n",
        "    if a==0:\n",
        "        return 1000000000\n",
        "    else:\n",
        "        return ((bin_size[0]/item_size[0])*(bin_size[1]/item_size[1])*(bin_size[2]/item_size[2]))/a"
      ],
      "metadata": {
        "id": "4dWqAjTpvRL8"
      },
      "execution_count": 6,
      "outputs": []
    },
    {
      "cell_type": "code",
      "source": [
        ""
      ],
      "metadata": {
        "id": "KfSs14iLykUS"
      },
      "execution_count": 6,
      "outputs": []
    },
    {
      "cell_type": "code",
      "source": [
        "@njit \n",
        "def find_number_of_rotate_fit(bin_size,item_size):\n",
        "    best_num_item = -3\n",
        "    best_k=-1\n",
        "    for k in range(6):\n",
        "        num_item = compute_number_of_fit( bin_size, compute_rotate_item_size(item_size, k))[0] \n",
        "        if num_item>best_num_item:\n",
        "            best_num_item =  num_item\n",
        "            best_k=k\n",
        "    result =  np.empty((2), np.int_)\n",
        "    result[0] =  best_num_item\n",
        "    result[1] = best_k\n",
        "    \n",
        "    return result"
      ],
      "metadata": {
        "id": "998mQcgfV4FY"
      },
      "execution_count": 7,
      "outputs": []
    },
    {
      "cell_type": "code",
      "source": [
        "@njit\n",
        "def decompose_bin(bin_size, item_size):#decompose box\n",
        "    box= np.empty((6, 6), np.int_)\n",
        "    temp=compute_number_of_fit(bin_size,item_size)\n",
        "    # print(temp)\n",
        "    M_lwh, M_l, M_w, M_h= temp[0], temp[1], temp[2], temp[3]\n",
        "    if M_lwh==0:\n",
        "        return box\n",
        "    bin_l = bin_size[0]\n",
        "    bin_w= bin_size[1]\n",
        "    bin_h =bin_size[2]\n",
        "    item_l, item_w, item_h, item_num = item_size\n",
        "    # print(\"1\")\n",
        "    temp_num = item_num\n",
        "    if temp_num>M_lwh:\n",
        "        temp_num= M_lwh\n",
        "    OQ= bin_l\n",
        "    N_l = math.ceil(temp_num/(M_w* M_h)) #8\n",
        "    num_item_front=temp_num- (N_l-1)*M_w* M_h #20-2*4*2\n",
        "    OF = N_l*item_l\n",
        "    # print(N_l)\n",
        "    # print('need to compute')\n",
        "    HI = M_w*item_w\n",
        "    IJ = bin_w-HI\n",
        "    JP =  math.floor(temp_num/(M_w* M_h))*item_l\n",
        "    num_colum_face= math.ceil(num_item_front/M_h)\n",
        "    FA =num_colum_face*item_w\n",
        "    AB = (M_h-(num_colum_face*M_h-num_item_front))*item_h\n",
        "    num_box_AB =  num_item_front%(M_h)\n",
        "    FC= math.floor(num_item_front/M_h )*item_w\n",
        "    CA = FA-FC\n",
        "\n",
        "    # print(num_box_AB)\n",
        "    # print(\"OF\", OF,\"FC\", FC,\"CA\",\"FA\",FA, CA, \"AB\", AB)\n",
        "    FD= M_h*item_h\n",
        "    box[0] = [bin_l-OF, bin_w, bin_h, OF, 0, 0]\n",
        "    box[1] =[ item_l, bin_w-FA, bin_h, OF- item_l, FA, 0]\n",
        "    box[2] =[ item_l, FA-FC, bin_h- AB, OF-item_l, FC,0]\n",
        "    box[3] =[ item_l, FC, bin_h- FD, OF- item_l, 0, FD]\n",
        "\n",
        "\n",
        "    box[4] =[ OF- item_l, bin_w-HI, bin_h, 0,HI, 0]\n",
        "    box[5]= [OF- item_l, HI, bin_h-FD, 0, 0, FD ]\n",
        "\n",
        "\n",
        "    return box\n",
        "\n",
        "\n"
      ],
      "metadata": {
        "id": "6B9GkM0nZlHe"
      },
      "execution_count": 8,
      "outputs": []
    },
    {
      "cell_type": "code",
      "source": [
        "\n",
        "@njit\n",
        "def decompose_to_two_bin(bin_size, item_size):\n",
        "    for k in range( math.floor(bin_size[1]/item_size[1]/2)+1):\n",
        "        \n",
        "        bin_size_1= np.copy(bin_size)\n",
        "        bin_size_2= np.copy(bin_size)\n",
        "        # k=1\n",
        "        bin_size_1[1] = bin_size_1[1]-k* item_size[1]\n",
        "        bin_size_2[1] = k* item_size[1]\n",
        "        a,_=find_number_of_rotate_fit(bin_size_1,item_size)\n",
        "        b,_=find_number_of_rotate_fit(bin_size_2,item_size)\n",
        "\n",
        "        print(a+b)\n"
      ],
      "metadata": {
        "id": "FhpUiMphb3G8"
      },
      "execution_count": 9,
      "outputs": []
    },
    {
      "cell_type": "code",
      "source": [
        ""
      ],
      "metadata": {
        "id": "j4qm-MgeixXM"
      },
      "execution_count": 9,
      "outputs": []
    },
    {
      "cell_type": "code",
      "source": [
        "time1= time.time()\n",
        "bin_list_obj = []\n",
        "bin_list_obj.append(Bin(np.array([10000, 2500,2500,0,0,0], np.int_)))\n",
        "# bin_list_obj.append(Bin(np.array([10000, 200,500,4], np.int_)))\n",
        "bin_list =[item.size for item in bin_list_obj]\n",
        "\n",
        "\n",
        "item_list_obj = []\n",
        "# item_list_obj.append(Item(np.array([350, 500, 600, 10000], np.int_)))\n",
        "# item_list_obj.append(Item(np.array([350, 250, 200,11000], np.int_)))\n",
        "for i in range(1000):\n",
        "    x=rd.randint(100, 600)\n",
        "    y=rd.randint(100, 600)\n",
        "    z=rd.randint(100, 600)\n",
        "    t=rd.randint(100, 6000)\n",
        "    item_list_obj.append(Item(np.array([x, y, z,t], np.int_)))\n",
        "item_list=[item.size for item in item_list_obj]\n",
        "min_item_dim  =  min([min(item[0], item[1], item[2])  for item in item_list] )\n",
        "item_list.sort(key=lambda x:-max(x[0], x[1], x[2]))\n",
        "for i in range(len(item_list)):\n",
        "    # print(\"________________\")\n",
        "\n",
        "    # print(\"number of item before pack\", sum([item[3]for item in item_list]))\n",
        "    item =item_list[i]\n",
        "    # print(\"prepare to pack\", item)\n",
        "    temp_bin_list =  []\n",
        "    if len(bin_list)==0:\n",
        "        break\n",
        "    bin_list.sort(key =  lambda x: min(x[0], x[1], x[2]))\n",
        "\n",
        "\n",
        "    # print(\"bin_list\", bin_list)\n",
        "\n",
        "\n",
        "    for b in range(len(bin_list)):\n",
        "        # print(item_list[i][3])\n",
        "        # print(\"\\tpack this bin\", bin_list[b])\n",
        "        if min(bin_list[b][0], bin_list[b][1], bin_list[b][2]) < min_item_dim :\n",
        "            continue\n",
        "        if min(bin_list[b][0], bin_list[b][1], bin_list[b][2]) < min( [item[0], item[1], item[2] ]) :\n",
        "            temp_bin_list.append(bin_list[b])\n",
        "            continue\n",
        "\n",
        "\n",
        "        number_of_fit = compute_number_of_fit(bin_list[b],item)[0]\n",
        "        if number_of_fit==0:\n",
        "            temp_bin_list.append(bin_list[b])\n",
        "            continue\n",
        "        \n",
        "        else:\n",
        "            box = decompose_bin(bin_list[b],item) \n",
        "            # number_of_rotate_fit(bin_size,item_size)\n",
        "\n",
        "\n",
        "            for k in range(len(box)):\n",
        "                if min(box[k][0], box[k][1], box[k][2]) < min_item_dim :\n",
        "                    continue\n",
        "                \n",
        "                temp_bin_list.append(box[k])\n",
        "\n",
        "            # print(\"\\tafter adding boxes\", temp_bin_list)\n",
        "\n",
        "        \n",
        "        if item_list[i][3] >= number_of_fit:\n",
        "            item_list[i][3] = item_list[i][3]- number_of_fit\n",
        "        else:\n",
        "            item_list[i][3] =0\n",
        "        # print(\"\\tnumber of item left\", sum([item[3]for item in item_list]))\n",
        "\n",
        "        \n",
        "        \n",
        "    bin_list= temp_bin_list\n",
        "    # print(\"len(bin_list)\",len(bin_list))\n",
        "    if i >= len(item_list):\n",
        "        break\n",
        "# print(\"final\")\n",
        "# print(\"number of item left\", sum([item[3]for item in item_list]))\n",
        "# print(temp_bin_list)    # print([item.q for item in item_list] )\n",
        "print(time.time()-time1)\n",
        "temp_bin_list"
      ],
      "metadata": {
        "colab": {
          "base_uri": "https://localhost:8080/"
        },
        "id": "4QJcWww7V4w0",
        "outputId": "6546b3cf-efd1-4a15-8785-9f9f01a177b1"
      },
      "execution_count": 10,
      "outputs": [
        {
          "output_type": "stream",
          "name": "stdout",
          "text": [
            "0.8744857311248779\n"
          ]
        },
        {
          "output_type": "execute_result",
          "data": {
            "text/plain": [
              "[array([ 247,  142,  100,    0, 2072,    0]),\n",
              " array([ 109,  100,  172,  109,    0, 2328]),\n",
              " array([ 109,  100,  172,    0,    0, 2328])]"
            ]
          },
          "metadata": {},
          "execution_count": 10
        }
      ]
    },
    {
      "cell_type": "markdown",
      "source": [
        "t_obj.append(Item(np.array([350, 500, 600, 10000], np.int_)))\n",
        "item_list_obj.append(Item(np.array([350, 250, 200,11000], np.int_)))"
      ],
      "metadata": {
        "id": "4_nBsdsd9N2q"
      }
    }
  ]
}